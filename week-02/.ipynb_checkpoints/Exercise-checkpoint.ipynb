{
 "cells": [
  {
   "cell_type": "markdown",
   "metadata": {},
   "source": [
    "# Problem Alphabet Slices\n",
    "* Store the first ten letters of the alphabet in a list.\n",
    "* Use a slice to print out the first three letters of the alphabet.\n",
    "* Use a slice to print out any three letters from the middle of your list."
   ]
  },
  {
   "cell_type": "code",
   "execution_count": 2,
   "metadata": {},
   "outputs": [
    {
     "name": "stdout",
     "output_type": "stream",
     "text": [
      "['a', 'b', 'c']\n",
      "['e', 'f', 'g']\n"
     ]
    }
   ],
   "source": [
    "# Solve Alphabet slices here. \n",
    "alphabet = ['a', 'b', 'c', 'd', 'e', 'f', 'g', 'h', 'i', 'j']\n",
    "\n",
    "print(alphabet[:3])\n",
    "print(alphabet[4:7])"
   ]
  },
  {
   "cell_type": "markdown",
   "metadata": {},
   "source": [
    "# Problem:  Covert all the rapper names to title case and save them into a new different list. \n",
    "example: lil wayne becomes Lil Wayne"
   ]
  },
  {
   "cell_type": "code",
   "execution_count": 3,
   "metadata": {
    "scrolled": false
   },
   "outputs": [
    {
     "name": "stdout",
     "output_type": "stream",
     "text": [
      "['Lil Wayne', 'Nicki Minaj', 'Drake']\n"
     ]
    }
   ],
   "source": [
    "# Solve rapper names here\n",
    "rappers = ['lil wayne', 'nicki minaj', 'drake']\n",
    "\n",
    "new_rappers = list()\n",
    "\n",
    "for rapper in rappers:\n",
    "    new_rappers.append(rapper.title())\n",
    "    \n",
    "print(new_rappers)\n",
    "\n",
    "\n",
    "\n",
    "\n"
   ]
  },
  {
   "cell_type": "markdown",
   "metadata": {},
   "source": [
    "# Problem: Write a function thats input is a number and output is:\n",
    "* Return True if the input number is even.\n",
    "* Return False if the input number is odd."
   ]
  },
  {
   "cell_type": "code",
   "execution_count": 7,
   "metadata": {},
   "outputs": [
    {
     "name": "stdout",
     "output_type": "stream",
     "text": [
      "Input any number: \n",
      "5\n",
      "5 is odd.\n"
     ]
    }
   ],
   "source": [
    "# Solve problem here\n",
    "print(\"Input any number: \")\n",
    "user_answer = int(input())\n",
    "\n",
    "if user_answer % 2 == 0:\n",
    "    print(f\"{user_answer} is even.\")\n",
    "else:\n",
    "    print(f\"{user_answer} is odd.\")"
   ]
  },
  {
   "cell_type": "markdown",
   "metadata": {},
   "source": [
    "# Problem: Find the sum and the average of this list of numbers.\n",
    "\n",
    "Try doing this using a loop.  Then try doing this without using a loop. "
   ]
  },
  {
   "cell_type": "code",
   "execution_count": 19,
   "metadata": {},
   "outputs": [
    {
     "name": "stdout",
     "output_type": "stream",
     "text": [
      "Using no loop:\n",
      "Sum: 353\n",
      "Avg: 35.3\n",
      "With Loop:\n",
      "Sum: 353\n",
      "Avg: 35.3\n"
     ]
    }
   ],
   "source": [
    "# Solve problem here:\n",
    "\n",
    "my_list = [1, 5, 10, 55, 88, 44, 42, 50, 20, 38]\n",
    "# Using a loop\n",
    "list_sum = 0\n",
    "list_avg = 0\n",
    "count = 0\n",
    "for num in my_list:\n",
    "    list_sum += num\n",
    "    count += 1\n",
    "    \n",
    "list_avg = float(list_sum/count)\n",
    "\n",
    "# No loop used\n",
    "print(f\"Using no loop:\\nSum: {sum(my_list)}\\nAvg: {sum(my_list)/len(my_list)}\")\n",
    "\n",
    "\n",
    "# Keep this as your last line in this cell.\n",
    "print(f\"With Loop:\\nSum: {list_sum}\\nAvg: {list_avg}\")"
   ]
  },
  {
   "cell_type": "markdown",
   "metadata": {},
   "source": [
    "# Problem: Write a function that input is a number and output returns the following\n",
    "* If the input is divisible by three, return 'fizz'\n",
    "* If the input is divisible by five, return 'buzz'\n",
    "* If the input is divisible by three and by five, return 'fizzbuzz'\n",
    "* If the input is not divisible by three or five, return None."
   ]
  },
  {
   "cell_type": "code",
   "execution_count": 2,
   "metadata": {},
   "outputs": [
    {
     "name": "stdout",
     "output_type": "stream",
     "text": [
      "Enter a number: \n",
      "15\n",
      "fizzbuzz\n",
      "Enter a number: \n",
      "20\n",
      "buzz\n",
      "Enter a number: \n",
      "6\n",
      "fizz\n",
      "Enter a number: \n",
      "2\n",
      "None\n"
     ]
    }
   ],
   "source": [
    "# Solve Problem fizzbuzz here:\n",
    "def check_div_by_three_and_five(num):\n",
    "    if num%3 == 0 and num%5 == 0:\n",
    "        return 'fizzbuzz'\n",
    "    elif num%3 == 0:\n",
    "        return 'fizz'\n",
    "    elif num%5 == 0:\n",
    "        return 'buzz'\n",
    "    else:\n",
    "        return None\n",
    "    \n",
    "print(\"Enter a number: \")\n",
    "print(check_div_by_three_and_five(num = int(input())))\n",
    "print(\"Enter a number: \")\n",
    "print(check_div_by_three_and_five(num = int(input())))\n",
    "print(\"Enter a number: \")\n",
    "print(check_div_by_three_and_five(num = int(input())))\n",
    "print(\"Enter a number: \")\n",
    "print(check_div_by_three_and_five(num = int(input())))"
   ]
  },
  {
   "cell_type": "markdown",
   "metadata": {},
   "source": [
    "# Problem: \n",
    "Write a function that takes a list and returns a new list that contains all the elements of the first list minus all the duplicates.\n",
    "\n",
    "Example input and expected output\n",
    "\n",
    "input = [\"Michele\", \"Robin\", \"Sara\", \"Michele\"]\n",
    "\n",
    "expected output = ['Michele', 'Robin', 'Sara']\n"
   ]
  },
  {
   "cell_type": "code",
   "execution_count": 10,
   "metadata": {},
   "outputs": [
    {
     "name": "stdout",
     "output_type": "stream",
     "text": [
      "['Michele', 'Robin', 'Sara']\n"
     ]
    }
   ],
   "source": [
    "# Solve problem here:\n",
    "def remove_dups(input_list):\n",
    "    new_list = list()\n",
    "    for item in input_list:\n",
    "        if item not in new_list:\n",
    "            new_list.append(item)\n",
    "    return  new_list\n",
    "names = [\"Michele\", \"Robin\", \"Sara\", \"Michele\"]\n",
    "print(remove_dups(names))"
   ]
  },
  {
   "cell_type": "markdown",
   "metadata": {},
   "source": [
    "# Problem: \n",
    "Write a function that takes a list of numbers (for example, a = [5, 10, 15, 20, 25]) and returns a new list of only the first and last elements of the given list.\n",
    "\n",
    "Example input and expected output:\n",
    "\n",
    "input = [5, 10, 15, 20, 25]\n",
    "\n",
    "expected output = [5, 25]"
   ]
  },
  {
   "cell_type": "code",
   "execution_count": 13,
   "metadata": {},
   "outputs": [
    {
     "name": "stdout",
     "output_type": "stream",
     "text": [
      "[5, 25]\n"
     ]
    }
   ],
   "source": [
    "# Solve problem here:\n",
    "def first_and_last_elements(input_list):\n",
    "    new_list = list()\n",
    "    new_list.append(input_list[0])\n",
    "    new_list.append(input_list[-1])\n",
    "    return new_list\n",
    "input_list = [5, 10, 99, 20, 25]\n",
    "print(first_and_last_elements(input_list))\n"
   ]
  },
  {
   "cell_type": "markdown",
   "metadata": {},
   "source": [
    "# Problem:  Implement a function that takes as input three variables, and returns the largest of the three. \n",
    "Do this without using the Python max() function! \n",
    "_*Note all three input numbers will always be different, no need to account for a tie._\n",
    "\n",
    "Example input and expected output:\n",
    "\n",
    "input = your_function(1, 5, 10)\n",
    "\n",
    "expected output:  10"
   ]
  },
  {
   "cell_type": "code",
   "execution_count": 16,
   "metadata": {},
   "outputs": [],
   "source": [
    "# Solve Problem here:\n",
    "\n",
    "def your_function(a, b, c):\n",
    "    # Fill in your code below and return max value of a, b, c\n",
    "    if a > b and a > c:\n",
    "        return a\n",
    "    elif b > a and b > c:\n",
    "        return b\n",
    "    else:\n",
    "        return c"
   ]
  },
  {
   "cell_type": "code",
   "execution_count": 20,
   "metadata": {},
   "outputs": [
    {
     "name": "stdout",
     "output_type": "stream",
     "text": [
      "10\n",
      "4\n",
      "5\n"
     ]
    }
   ],
   "source": [
    "# Test to see if your function works properly.\n",
    "print(your_function(1, 5, 10))\n",
    "print(your_function(4, 2, 3))\n",
    "print(your_function(1, 5, 3))"
   ]
  },
  {
   "cell_type": "code",
   "execution_count": null,
   "metadata": {},
   "outputs": [],
   "source": []
  }
 ],
 "metadata": {
  "kernelspec": {
   "display_name": "Python 3 (ipykernel)",
   "language": "python",
   "name": "python3"
  },
  "language_info": {
   "codemirror_mode": {
    "name": "ipython",
    "version": 3
   },
   "file_extension": ".py",
   "mimetype": "text/x-python",
   "name": "python",
   "nbconvert_exporter": "python",
   "pygments_lexer": "ipython3",
   "version": "3.9.12"
  }
 },
 "nbformat": 4,
 "nbformat_minor": 4
}
