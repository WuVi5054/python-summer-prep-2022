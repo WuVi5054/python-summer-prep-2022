{
 "cells": [
  {
   "cell_type": "markdown",
   "metadata": {},
   "source": [
    "# List Overlap \n",
    "Write a program that returns a list that contains only the elements that are common between the lists (without duplicates). Make sure your program works on two lists of different sizes."
   ]
  },
  {
   "cell_type": "code",
   "execution_count": 1,
   "metadata": {},
   "outputs": [
    {
     "data": {
      "text/plain": [
       "[1, 2, 3, 5, 8, 13]"
      ]
     },
     "execution_count": 1,
     "metadata": {},
     "output_type": "execute_result"
    }
   ],
   "source": [
    "def common_elements(list1, list2):\n",
    "    return list(set(list1).intersection(list2))\n",
    "\n",
    "\n",
    "a = [1, 1, 2, 3, 5, 8, 13, 21, 34, 55, 89]\n",
    "b = [1, 2, 3, 4, 5, 6, 7, 8, 9, 10, 11, 12, 13]\n",
    "\n",
    "common_elements(a, b)\n"
   ]
  },
  {
   "cell_type": "markdown",
   "metadata": {},
   "source": [
    "# Rock Paper Scissors\n",
    "\n",
    "Make a two-player Rock-Paper-Scissors game. (Hint: Ask for player plays (using input), compare them, print out a message of congratulations to the winner.)\n",
    "\n",
    "Remember the rules:\n",
    "\n",
    "* Rock beats scissors\n",
    "* Scissors beats paper\n",
    "* Paper beats rock"
   ]
  },
  {
   "cell_type": "code",
   "execution_count": 6,
   "metadata": {},
   "outputs": [
    {
     "name": "stdout",
     "output_type": "stream",
     "text": [
      "Rock-Paper-Scissors: rock\n",
      "Rock-Paper-Scissors: rock\n",
      "Both players selected rock. It's a tie!\n"
     ]
    }
   ],
   "source": [
    "def rps(p1, p2):\n",
    "    if p1 == p2:\n",
    "        print(f\"Both players selected {p1}. It's a tie!\")\n",
    "    elif p1 == \"rock\":\n",
    "        if p2 == \"scissors\":\n",
    "            print(\"Rock smashes scissors! P1 win!\")\n",
    "        else:\n",
    "            print(\"Paper covers rock! P1 lose.\")\n",
    "    elif p1 == \"paper\":\n",
    "        if p2 == \"rock\":\n",
    "            print(\"Paper covers rock! P1 win!\")\n",
    "        else:\n",
    "            print(\"Scissors cuts paper! P1 lose.\")\n",
    "    elif p1 == \"scissors\":\n",
    "        if p2 == \"paper\":\n",
    "            print(\"Scissors cuts paper! P1 win!\")\n",
    "        else:\n",
    "            print(\"Rock smashes scissors! P1 lose.\")\n",
    "\n",
    "player1 = input(\"Rock-Paper-Scissors: \")\n",
    "player2 = input(\"Rock-Paper-Scissors: \")\n",
    "\n",
    "rps(player1, player2)\n"
   ]
  },
  {
   "cell_type": "markdown",
   "metadata": {},
   "source": [
    "# Palindrome \n",
    "\n",
    "Ask the user for a string and print out whether this string is a palindrome or not. (A palindrome is a string that reads the same forwards and backwards.)"
   ]
  },
  {
   "cell_type": "code",
   "execution_count": 7,
   "metadata": {},
   "outputs": [
    {
     "name": "stdout",
     "output_type": "stream",
     "text": [
      "Yes\n"
     ]
    }
   ],
   "source": [
    "def isPalindrome(s):\n",
    "    return s == s[::-1]\n",
    " \n",
    "\n",
    "s = \"malayalam\"\n",
    "ans = isPalindrome(s)\n",
    " \n",
    "if ans:\n",
    "    print(\"Yes\")\n",
    "else:\n",
    "    print(\"No\")"
   ]
  },
  {
   "cell_type": "markdown",
   "metadata": {},
   "source": [
    "# Password Generator\n",
    "Write a password generator in Python. Be creative with how you generate passwords - strong passwords have a mix of lowercase letters, uppercase letters, numbers, and symbols. The passwords should be random.  Ask the user to input how long they want their password to be. "
   ]
  },
  {
   "cell_type": "code",
   "execution_count": 8,
   "metadata": {},
   "outputs": [
    {
     "name": "stdout",
     "output_type": "stream",
     "text": [
      "Enter password length: 4\n",
      "D!Vm\n"
     ]
    }
   ],
   "source": [
    "import random\n",
    "import string\n",
    "chars = \"abcdefghijklmnopqrstuvwxyz01234567890ABCDEFGHIJKLMNOPQRSTUVWXYZ!@#$%^&*()?\"\n",
    "def generate_random_password():\n",
    "    ## length of password from the user\n",
    "    length = int(input(\"Enter password length: \"))\n",
    "\n",
    "    ## shuffling the characters\n",
    "#     random.shuffle(chars)\n",
    "\n",
    "    ## picking random characters from the list\n",
    "    password = []\n",
    "    for i in range(length):\n",
    "        password.append(random.choice(chars))\n",
    "\n",
    "    ## shuffling the resultant password\n",
    "    random.shuffle(password)\n",
    "\n",
    "    ## converting the list to string\n",
    "    ## printing the list\n",
    "    print(\"\".join(password))\n",
    "\n",
    "\n",
    "\n",
    "## invoking the function\n",
    "generate_random_password()\n",
    "\n",
    "\n"
   ]
  },
  {
   "cell_type": "markdown",
   "metadata": {},
   "source": [
    "# Divisors Solutions\n",
    "\n",
    "Create a program that asks the user for a number and then prints out a list of all the divisors of that number. (If you don’t know what a divisor is, it is a number that divides evenly into another number. For example, 13 is a divisor of 26 because 26 / 13 has no remainder.)"
   ]
  },
  {
   "cell_type": "markdown",
   "metadata": {},
   "source": [
    "def divisor(input_num):\n",
    "    new_list = []\n",
    "    for num in range(int(input_num/2)):\n",
    "        if input_num % num + 1 == 0:\n",
    "            new_list.append(num + 1)\n",
    "    return new_list\n",
    "\n",
    "divisor(int(input(\"Number: \")))"
   ]
  },
  {
   "cell_type": "code",
   "execution_count": 2,
   "metadata": {},
   "outputs": [
    {
     "name": "stdout",
     "output_type": "stream",
     "text": [
      "Number: 26\n"
     ]
    },
    {
     "data": {
      "text/plain": [
       "[1, 2, 13]"
      ]
     },
     "execution_count": 2,
     "metadata": {},
     "output_type": "execute_result"
    }
   ],
   "source": [
    "def divisor(input_num):\n",
    "    new_list = []\n",
    "    for num in range(int(input_num/2)):\n",
    "        if input_num % (num + 1) == 0:\n",
    "            new_list.append(num + 1)\n",
    "    return new_list\n",
    "\n",
    "divisor(int(input(\"Number: \")))"
   ]
  },
  {
   "cell_type": "markdown",
   "metadata": {},
   "source": [
    "# Missing Character\n",
    "Given a non-empty string and an int n, return a new string where the char at index n has been removed. The value of n will be a valid index of a char in the original string (i.e. n will be in the range 0..len(str)-1 inclusive).\n",
    "\n",
    "```\n",
    "missing_char('kitten', 1) → 'ktten'\n",
    "missing_char('kitten', 0) → 'itten'\n",
    "missing_char('kitten', 4) → 'kittn'\n",
    "\n",
    "```"
   ]
  },
  {
   "cell_type": "code",
   "execution_count": 13,
   "metadata": {},
   "outputs": [
    {
     "data": {
      "text/plain": [
       "'kittn'"
      ]
     },
     "execution_count": 13,
     "metadata": {},
     "output_type": "execute_result"
    }
   ],
   "source": [
    "def missing_char(word, n):\n",
    "    return(word[:n] + word[n + 1:])\n",
    "missing_char('kitten', 4)"
   ]
  },
  {
   "cell_type": "markdown",
   "metadata": {},
   "source": [
    "# Centered Average\n",
    "\n",
    "Return the \"centered\" average of an array of ints, which we'll say is the mean average of the values, except ignoring the largest and smallest values in the array. If there are multiple copies of the smallest value, ignore just one copy, and likewise for the largest value.  You may assume that the array is length 3 or more and will never contain negative values. \n",
    "* Round your answer to the nearest whole number.\n",
    "\n",
    "```\n",
    "centered_average([1, 2, 3, 4, 100]) → 3\n",
    "centered_average([1, 1, 5, 5, 10, 8, 7]) → 5\n",
    "```"
   ]
  },
  {
   "cell_type": "code",
   "execution_count": 21,
   "metadata": {},
   "outputs": [
    {
     "name": "stdout",
     "output_type": "stream",
     "text": [
      "54\n"
     ]
    }
   ],
   "source": [
    "example_list = [100, 100, 50, 75, 50, 25, 25, 25]\n",
    "max_value = example_list[0]\n",
    "min_value = example_list[0]\n",
    "sum = 0\n",
    "for x in example_list:\n",
    "    max_value = max(max_value, x)\n",
    "    min_value = min(min_value, x)\n",
    "    sum += x\n",
    "\n",
    "print(int((sum - max_value - min_value) / (len(example_list) - 2)))"
   ]
  },
  {
   "cell_type": "code",
   "execution_count": null,
   "metadata": {},
   "outputs": [],
   "source": []
  }
 ],
 "metadata": {
  "kernelspec": {
   "display_name": "Python 3 (ipykernel)",
   "language": "python",
   "name": "python3"
  },
  "language_info": {
   "codemirror_mode": {
    "name": "ipython",
    "version": 3
   },
   "file_extension": ".py",
   "mimetype": "text/x-python",
   "name": "python",
   "nbconvert_exporter": "python",
   "pygments_lexer": "ipython3",
   "version": "3.9.12"
  }
 },
 "nbformat": 4,
 "nbformat_minor": 4
}
